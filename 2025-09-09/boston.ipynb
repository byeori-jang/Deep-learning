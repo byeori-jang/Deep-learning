{
  "nbformat": 4,
  "nbformat_minor": 0,
  "metadata": {
    "colab": {
      "provenance": [],
      "mount_file_id": "1EqL-eDdFxymAUYnkHsZdIFnXQbWw8rXx",
      "authorship_tag": "ABX9TyNlB1CBFOZNiZPPj0ItNPQK",
      "include_colab_link": true
    },
    "kernelspec": {
      "name": "python3",
      "display_name": "Python 3"
    },
    "language_info": {
      "name": "python"
    }
  },
  "cells": [
    {
      "cell_type": "markdown",
      "metadata": {
        "id": "view-in-github",
        "colab_type": "text"
      },
      "source": [
        "<a href=\"https://colab.research.google.com/github/byeori-jang/Deep-learning/blob/main/2025-09-09/boston.ipynb\" target=\"_parent\"><img src=\"https://colab.research.google.com/assets/colab-badge.svg\" alt=\"Open In Colab\"/></a>"
      ]
    },
    {
      "cell_type": "code",
      "execution_count": 3,
      "metadata": {
        "colab": {
          "base_uri": "https://localhost:8080/"
        },
        "id": "FH9-MmCXZlMz",
        "outputId": "76ae0fd9-878e-4d3b-caa6-8fcdc37745fb"
      },
      "outputs": [
        {
          "output_type": "stream",
          "name": "stdout",
          "text": [
            "=== Test Metrics (Regression) ===\n",
            "[Decision Tree]\n",
            "MAE: 0.444 | RMSE: 0.694 | R^2: 0.632\n",
            "[Random Forest]\n",
            "MAE: 0.314 | RMSE: 0.489 | R^2: 0.818\n",
            "[Linear Regression]\n",
            "MAE: 0.532 | RMSE: 0.745 | R^2: 0.577\n"
          ]
        }
      ],
      "source": [
        "import numpy as np\n",
        "import pandas as pd\n",
        "\n",
        "from sklearn.model_selection import train_test_split\n",
        "from sklearn.tree import DecisionTreeRegressor\n",
        "from sklearn.ensemble import RandomForestRegressor\n",
        "from sklearn.linear_model import LinearRegression\n",
        "from sklearn.pipeline import make_pipeline\n",
        "from sklearn.preprocessing import StandardScaler\n",
        "from sklearn.metrics import mean_absolute_error, mean_squared_error, r2_score\n",
        "\n",
        "# -----------------------------\n",
        "# 1) 데이터 준비 (회귀용)\n",
        "# -----------------------------\n",
        "df = pd.read_csv(\"/content/drive/MyDrive/Colab Notebooks/boston.csv\")\n",
        "\n",
        "# 타깃 컬럼 자동 인식: 'MEDV'가 있으면 사용, 없으면 마지막 컬럼 사용\n",
        "target_col = 'MEDV' if 'MEDV' in df.columns else df.columns[-1]\n",
        "\n",
        "X = df.drop(columns=[target_col])\n",
        "y = df[target_col]\n",
        "\n",
        "\n",
        "\n",
        "# -----------------------------\n",
        "# 2) 모델 구성 (회귀 모델)\n",
        "# -----------------------------\n",
        "dt = DecisionTreeRegressor(random_state=42)\n",
        "rf = RandomForestRegressor(n_estimators=300, random_state=42, n_jobs=-1)\n",
        "lr = make_pipeline(StandardScaler(with_mean=True, with_std=True), LinearRegression())\n",
        "\n",
        "# -----------------------------\n",
        "# 3) 모델 학습\n",
        "# -----------------------------\n",
        "dt.fit(X_train, y_train)\n",
        "rf.fit(X_train, y_train)\n",
        "lr.fit(X_train, y_train)\n",
        "\n",
        "# -----------------------------\n",
        "# 4) 모델 평가 함수\n",
        "# -----------------------------\n",
        "def eval_reg(y_true, y_pred):\n",
        "    mae  = mean_absolute_error(y_true, y_pred)\n",
        "    rmse = np.sqrt(mean_squared_error(y_true, y_pred))  # ✅ 호환 버전\n",
        "    r2   = r2_score(y_true, y_pred)\n",
        "    return mae, rmse, r2\n",
        "\n",
        "dt_mae, dt_rmse, dt_r2 = eval_reg(y_test, dt.predict(X_test))\n",
        "rf_mae, rf_rmse, rf_r2 = eval_reg(y_test, rf.predict(X_test))\n",
        "lr_mae, lr_rmse, lr_r2 = eval_reg(y_test, lr.predict(X_test))\n",
        "\n",
        "print(\"=== Test Metrics (Regression) ===\")\n",
        "print(\"[Decision Tree]\")\n",
        "print(f\"MAE: {dt_mae:.3f} | RMSE: {dt_rmse:.3f} | R^2: {dt_r2:.3f}\")\n",
        "\n",
        "print(\"[Random Forest]\")\n",
        "print(f\"MAE: {rf_mae:.3f} | RMSE: {rf_rmse:.3f} | R^2: {rf_r2:.3f}\")\n",
        "\n",
        "print(\"[Linear Regression]\")\n",
        "print(f\"MAE: {lr_mae:.3f} | RMSE: {lr_rmse:.3f} | R^2: {lr_r2:.3f}\")\n"
      ]
    }
  ]
}